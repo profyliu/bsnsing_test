{
 "cells": [
  {
   "cell_type": "code",
   "execution_count": 1,
   "metadata": {},
   "outputs": [],
   "source": [
    "import numpy as np\n",
    "from sklearn.model_selection import train_test_split\n",
    "from dl85 import DL85Classifier\n",
    "from sklearn.metrics import confusion_matrix, precision_score\n",
    "import os"
   ]
  },
  {
   "cell_type": "code",
   "execution_count": 6,
   "metadata": {},
   "outputs": [],
   "source": [
    "source_folder = \"data/pydl8.5_datasets\"\n",
    "dest_folder = \"data/pydl8.5_datasets_split\""
   ]
  },
  {
   "cell_type": "code",
   "execution_count": 15,
   "metadata": {},
   "outputs": [],
   "source": [
    "data_files = os.listdir(source_folder)\n",
    "for this_file in data_files:\n",
    "    dataset = np.genfromtxt(source_folder + \"/\" + this_file, delimiter=\" \")   \n",
    "    filename_stem = this_file.split('.')[0]\n",
    "    X = dataset[:, 1:]\n",
    "    y = dataset[:, 0]\n",
    "    X_train, X_test, y_train, y_test = train_test_split(X,y,test_size=0.3,random_state=0)\n",
    "    np.savetxt(dest_folder + \"/\" + filename_stem + \"_X_train.txt\", X_train, fmt=\"%d\", delimiter = \" \")\n",
    "    np.savetxt(dest_folder + \"/\" + filename_stem + \"_y_train.txt\", y_train, fmt=\"%d\", delimiter = \" \")\n",
    "    np.savetxt(dest_folder + \"/\" + filename_stem + \"_X_test.txt\", X_test, fmt=\"%d\", delimiter = \" \")\n",
    "    np.savetxt(dest_folder + \"/\" + filename_stem + \"_y_test.txt\", y_test, fmt=\"%d\", delimiter = \" \")"
   ]
  },
  {
   "cell_type": "code",
   "execution_count": 2,
   "metadata": {},
   "outputs": [],
   "source": [
    "# Below is for rev2: each dataset run 20 times, with 70/30 split for train/test\n",
    "source_folder = \"data/pydl8.5_datasets\"\n",
    "dest_folder = \"data/pydl8.5_datasets_split_20\""
   ]
  },
  {
   "cell_type": "code",
   "execution_count": 4,
   "metadata": {},
   "outputs": [],
   "source": [
    "data_files = os.listdir(source_folder)\n",
    "for this_file in data_files:\n",
    "    dataset = np.genfromtxt(source_folder + \"/\" + this_file, delimiter=\" \")\n",
    "    filename_stem = this_file.split('.')[0]\n",
    "    X = dataset[:, 1:]\n",
    "    y = dataset[:, 0]\n",
    "    for k in range(1,21):\n",
    "        seed = 1 << k\n",
    "        X_train, X_test, y_train, y_test = train_test_split(X,y,test_size=0.3,random_state=seed)\n",
    "        np.savetxt(dest_folder + \"/\" + filename_stem + \"_X_train_\" + str(k) + \".txt\", X_train, fmt=\"%d\", delimiter = \" \")\n",
    "        np.savetxt(dest_folder + \"/\" + filename_stem + \"_y_train_\" + str(k) + \".txt\", y_train, fmt=\"%d\", delimiter = \" \")\n",
    "        np.savetxt(dest_folder + \"/\" + filename_stem + \"_X_test_\" + str(k) + \".txt\", X_test, fmt=\"%d\", delimiter = \" \")\n",
    "        np.savetxt(dest_folder + \"/\" + filename_stem + \"_y_test_\" + str(k) + \".txt\", y_test, fmt=\"%d\", delimiter = \" \")"
   ]
  },
  {
   "cell_type": "code",
   "execution_count": null,
   "metadata": {},
   "outputs": [],
   "source": []
  }
 ],
 "metadata": {
  "kernelspec": {
   "display_name": "Python 3",
   "language": "python",
   "name": "python3"
  },
  "language_info": {
   "codemirror_mode": {
    "name": "ipython",
    "version": 3
   },
   "file_extension": ".py",
   "mimetype": "text/x-python",
   "name": "python",
   "nbconvert_exporter": "python",
   "pygments_lexer": "ipython3",
   "version": "3.8.5"
  }
 },
 "nbformat": 4,
 "nbformat_minor": 4
}
